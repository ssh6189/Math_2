{
 "cells": [
  {
   "cell_type": "markdown",
   "metadata": {},
   "source": [
    "<H1>1. 주어진 수 N개 중에서 소수가 몇 개인지 찾아서 출력하는 프로그램을 작성하시오.</H1>\n",
    "\n",
    "<H1>첫 줄에 수의 개수 N이 주어진다. N은 100이하이다.</H1> \n",
    "\n",
    "<H1>다음으로 N개의 수가 주어지는데 수는 1,000 이하의 자연수이다.</H1> \n"
   ]
  },
  {
   "cell_type": "code",
   "execution_count": 4,
   "metadata": {},
   "outputs": [
    {
     "name": "stdout",
     "output_type": "stream",
     "text": [
      "4\n",
      "1 3 5 7\n",
      "3\n"
     ]
    }
   ],
   "source": [
    "N = int(input())\n",
    "\n",
    "num_list = []\n",
    "\n",
    "pncount = 0\n",
    "\n",
    "num_list[0:N] = map(int, input().split(\" \"))\n",
    "    \n",
    "for k in range(len(num_list)):\n",
    "    c = 0\n",
    "    j = 1\n",
    "    while(j <= num_list[k]):\n",
    "        if(num_list[k]%j == 0):\n",
    "            c = c + 1\n",
    "\n",
    "        j = j + 1\n",
    "        \n",
    "    if(c==2):\n",
    "        pncount = pncount + 1\n",
    "        \n",
    "print(pncount)"
   ]
  },
  {
   "cell_type": "markdown",
   "metadata": {},
   "source": [
    "<H1>2.자연수 M과 N이 주어질 때 M이상 N이하의 자연수 중</H1>\n",
    "\n",
    "<H1>소수인 것을 모두 골라 이들 소수의 합과 최솟값을 찾는 프로그램을 작성하시오.</H1>\n",
    "\n",
    "<H1>예를 들어 M=60, N=100인 경우 60이상 100이하의 자연수 중 소수는</H1>\n",
    "\n",
    "<H1>61, 67, 71, 73, 79, 83, 89, 97 총 8개가 있으므로, 이들 소수의 합은 620이고, 최솟값은 61이 된다.</H1>\n",
    "\n",
    "<H1>입력의 첫째 줄에 M이, 둘째 줄에 N이 주어진다.</H1>\n",
    "\n",
    "<H1>M과 N은 10,000이하의 자연수이며, M은 N보다 작거나 같다.</H1>"
   ]
  },
  {
   "cell_type": "code",
   "execution_count": 12,
   "metadata": {},
   "outputs": [
    {
     "name": "stdout",
     "output_type": "stream",
     "text": [
      "60\n",
      "100\n",
      "620\n",
      "61\n"
     ]
    }
   ],
   "source": [
    "M = int(input())\n",
    "N = int(input())\n",
    "\n",
    "num_list = []\n",
    "\n",
    "prime_number = []\n",
    "\n",
    "for i in range(N+1):\n",
    "    \n",
    "    if (i >= M):\n",
    "        num_list.append(i)\n",
    "\n",
    "for k in range(len(num_list)):\n",
    "    c = 0\n",
    "    j = 1\n",
    "    while(j <= num_list[k]):\n",
    "        if(num_list[k]%j == 0):\n",
    "            c = c + 1\n",
    "        \n",
    "        if (c > 2):\n",
    "            break\n",
    "\n",
    "        j = j + 1\n",
    "        \n",
    "    if(c==2):\n",
    "        prime_number.append(num_list[k])\n",
    "        \n",
    "        \n",
    "print(sum(prime_number))\n",
    "print(min(prime_number))"
   ]
  },
  {
   "cell_type": "markdown",
   "metadata": {},
   "source": [
    "<H1>3. M이상 N이하의 소수를 모두 출력하는 프로그램을 작성하시오.</H1>\n",
    "\n",
    "<H1>첫째 줄에 자연수 M과 N이 빈 칸을 사이에 두고 주어진다. (1 ≤ M ≤ N ≤ 1,000,000)</H1>"
   ]
  },
  {
   "cell_type": "code",
   "execution_count": 2,
   "metadata": {},
   "outputs": [
    {
     "name": "stdout",
     "output_type": "stream",
     "text": [
      "3 16\n",
      "[3, 5, 7, 11, 13]\n"
     ]
    }
   ],
   "source": [
    "M, N = map(int, input().split(\" \"))\n",
    "\n",
    "num_list = []\n",
    "\n",
    "prime_number = []\n",
    "\n",
    "for i in range(N+1):\n",
    "    \n",
    "    if (i >= M):\n",
    "        num_list.append(i)\n",
    "\n",
    "for k in range(len(num_list)):\n",
    "    c = 0\n",
    "    j = 1\n",
    "    while(j <= num_list[k]):\n",
    "        if(num_list[k]%j == 0):\n",
    "            c = c + 1\n",
    "        \n",
    "        if (c > 2):\n",
    "            break\n",
    "\n",
    "        j = j + 1\n",
    "        \n",
    "    if(c==2):\n",
    "        prime_number.append(num_list[k])\n",
    "        \n",
    "print(prime_number)"
   ]
  },
  {
   "cell_type": "markdown",
   "metadata": {},
   "source": [
    "<H1>4. 베르트랑 공준은 임의의 자연수 n에 대하여, n보다 크고, 2n보다 작거나 같은 소수는 적어도 하나 존재한다는 내용을 담고 있다.</H1>\n",
    "\n",
    "<H1>이 명제는 조제프 베르트랑이 1845년에 추측했고, 파프누티 체비쇼프가 1850년에 증명했다.</H1>\n",
    "\n",
    "\n",
    "<H1>예를 들어, 10보다 크고, 20보다 작거나 같은 소수는 4개가 있다.</H1>\n",
    "\n",
    "<H1>(11, 13, 17, 19) 또, 14보다 크고, 28보다 작거나 같은 소수는 3개가 있다. (17,19, 23)</H1>\n",
    "\n",
    "<H1>n이 주어졌을 때, n보다 크고, 2n보다 작거나 같은 소수의 개수를 구하는 프로그램을 작성하시오. </H1>\n"
   ]
  },
  {
   "cell_type": "code",
   "execution_count": null,
   "metadata": {},
   "outputs": [],
   "source": [
    "n = int(input())\n",
    "\n",
    "num_list = []\n",
    "\n",
    "prime_number = []\n",
    "\n",
    "for i in range(2*n+1):\n",
    "    if (i > n):\n",
    "        num_list.append(i)\n",
    "\n",
    "for k in range(len(num_list)):\n",
    "    c = 0\n",
    "    j = 1\n",
    "    while(j <= num_list[k]):\n",
    "        if(num_list[k]%j == 0):\n",
    "            c = c + 1\n",
    "        \n",
    "        if (c > 2):\n",
    "            break\n",
    "\n",
    "        j = j + 1\n",
    "        \n",
    "    if(c==2):\n",
    "        prime_number.append(num_list[k])\n",
    "        \n",
    "print(len(prime_number))"
   ]
  },
  {
   "cell_type": "markdown",
   "metadata": {},
   "source": [
    "<H1>5. 1보다 큰 자연수 중에서  1과 자기 자신을 제외한 약수가 없는 자연수를 소수라고 한다.</H1>\n",
    "\n",
    "<H1>예를 들어, 5는 1과 5를 제외한 약수가 없기 때문에 소수이다.</H1>\n",
    "\n",
    "<H1>하지만, 6은 6 = 2 × 3 이기 때문에 소수가 아니다.</H1>\n",
    "\n",
    "<H1>골드바흐의 추측은 유명한 정수론의 미해결 문제로,</H1>\n",
    "\n",
    "<H1>2보다 큰 모든 짝수는 두 소수의 합으로 나타낼 수 있다는 것이다.</H1> \n",
    "\n",
    "<H1>이러한 수를 골드바흐 수라고 한다.</H1> \n",
    "\n",
    "<H1>또, 짝수를 두 소수의 합으로 나타내는 표현을 그 수의 골드바흐 파티션이라고 한다.</H1> \n",
    "\n",
    "<H1>예를 들면, 4 = 2 + 2, 6 = 3 + 3, 8 = 3 + 5, 10 = 5 + 5, 12 = 5 + 7, 14 = 3 + 11, 14 = 7 + 7이다.</H1>\n",
    "\n",
    "<H1>10000보다 작거나 같은 모든 짝수 n에 대한 골드바흐 파티션은 존재한다.</H1>\n",
    "\n",
    "<H1>2보다 큰 짝수 n이 주어졌을 때, n의 골드바흐 파티션을 출력하는 프로그램을 작성하시오.</H1> \n",
    "\n",
    "<H1>만약 가능한 n의 골드바흐 파티션이 여러 가지인 경우에는 두 소수의 차이가 가장 작은 것을 출력한다.</H1>\n",
    "\n",
    "<H1>첫째 줄에 테스트 케이스의 개수 T가 주어진다.</H1>\n",
    "\n",
    "<H1>각 테스트 케이스는 한 줄로 이루어져 있고 짝수 n이 주어진다. (4 ≤ n ≤ 10,000)</H1>"
   ]
  },
  {
   "cell_type": "code",
   "execution_count": 9,
   "metadata": {},
   "outputs": [
    {
     "name": "stdout",
     "output_type": "stream",
     "text": [
      "3\n",
      "8\n",
      "3   5\n",
      "10\n",
      "5   5\n",
      "16\n",
      "5   11\n"
     ]
    }
   ],
   "source": [
    "T = int(input(\"\"))\n",
    "\n",
    "for c in range(T):\n",
    "    num_list = []\n",
    "\n",
    "    prime_number = []\n",
    "\n",
    "    N = int(input(\"\"))\n",
    "    \n",
    "    cha = N\n",
    "    \n",
    "    for i in range(N+1):\n",
    "\n",
    "        if (i <= N):\n",
    "            num_list.append(i)\n",
    "\n",
    "    for k in range(len(num_list)):\n",
    "        c = 0\n",
    "        j = 1\n",
    "        while(j <= num_list[k]):\n",
    "            if(num_list[k]%j == 0):\n",
    "                c = c + 1\n",
    "\n",
    "            if (c > 2):\n",
    "                break\n",
    "\n",
    "            j = j + 1\n",
    "\n",
    "        if(c==2):\n",
    "            prime_number.append(num_list[k])\n",
    "            \n",
    "    for a in prime_number:\n",
    "        for b in prime_number:\n",
    "            if(a + b == N):\n",
    "                s1 = a\n",
    "                s2 = b\n",
    "                mi = abs(s1 - s2)\n",
    "                \n",
    "                if(mi < cha):\n",
    "                    cha = mi\n",
    "                    result1 = s1\n",
    "                    result2 = s2\n",
    "    \n",
    "    print(result1, \" \", result2)"
   ]
  },
  {
   "cell_type": "markdown",
   "metadata": {},
   "source": [
    "<H1>6. 직사각형에서의 탈출</H1>\n",
    "\n",
    "<H1>한수는 지금 (x, y)에 있다.</H1>\n",
    "\n",
    "<H1>직사각형의 왼쪽 아래 꼭짓점은 (0, 0)에 있고, 오른쪽 위 꼭짓점은 (w, h)에 있다.</H1>\n",
    "\n",
    "<H1>직사각형의 경계선까지 가는 거리의 최솟값을 구하는 프로그램을 작성하시오.</H1>\n",
    "\n",
    "<H1>첫째 줄에 x y w h가 주어진다.</H1>\n",
    "\n",
    "<H1>w와 h는 1,000보다 작거나 같은 자연수이고, x는 1보다 크거나 같고, w-1보다 작거나 같은 자연수이고, y는 1보다 크거나 같고, h-1보다 작거나 같은 자연수이다.</H1>"
   ]
  },
  {
   "cell_type": "code",
   "execution_count": 13,
   "metadata": {},
   "outputs": [
    {
     "name": "stdout",
     "output_type": "stream",
     "text": [
      "6 2 10 3\n",
      "1\n"
     ]
    }
   ],
   "source": [
    "x, y, w, h = map(int, input().split(\" \"))\n",
    "\n",
    "v = [x, y, abs(h-y), abs(w-x)]\n",
    "\n",
    "print(min(v))"
   ]
  },
  {
   "cell_type": "markdown",
   "metadata": {},
   "source": [
    "<H1>7. 세 점이 주어졌을 때, 축에 평행한 직사각형을 만들기 위해서 필요한 네 번째 점을 찾는 프로그램을 작성하시오.</H1>\n",
    "\n",
    "<H1>세 점의 좌표가 한 줄에 하나씩 주어진다. 좌표는 1보다 크거나 같고, 1000보다 작거나 같은 정수이다.</H1>"
   ]
  },
  {
   "cell_type": "code",
   "execution_count": 16,
   "metadata": {},
   "outputs": [
    {
     "name": "stdout",
     "output_type": "stream",
     "text": [
      "30 20\n",
      "10 10\n",
      "10 20\n",
      "30 10\n"
     ]
    }
   ],
   "source": [
    "a1, a2 = map(int, input().split(\" \"))\n",
    "b1, b2 = map(int, input().split(\" \"))\n",
    "c1, c2 = map(int, input().split(\" \"))\n",
    "    \n",
    "x = [a1, b1, c1]\n",
    "y = [a2, b2, c2]\n",
    "\n",
    "x.sort()\n",
    "y.sort()\n",
    "\n",
    "if(x.count(x[0]) == 2):\n",
    "    d1 = x[2]\n",
    "else:\n",
    "    d1 = x[0]\n",
    "    \n",
    "if(y.count(y[0]) == 2):\n",
    "    d2 = y[2]\n",
    "else:\n",
    "    d2 = y[0]\n",
    "\n",
    "print(d1, d2)"
   ]
  },
  {
   "cell_type": "markdown",
   "metadata": {},
   "source": [
    "<H1>8. 과거 이집트인들은 각 변들의 길이가 3, 4, 5인 삼각형이 직각 삼각형인것을 알아냈다.</H1>\n",
    "<H1>주어진 세변의 길이로 삼각형이 직각인지 아닌지 구분하시오.</H1>\n",
    "\n",
    "<img src = \"Right_triangle.jpg\">\n",
    "<H1>입력은 여러개의 테스트케이스로 주어지며 마지막줄에는 0 0 0이 입력된다.</H1>\n",
    "<H1>각 테스트케이스는 모두 30,000보다 작은 양의 정수로 주어지며,</H1>\n",
    "<H1>각 입력은 변의 길이를 의미한다. </H1>"
   ]
  },
  {
   "cell_type": "code",
   "execution_count": 22,
   "metadata": {},
   "outputs": [
    {
     "name": "stdout",
     "output_type": "stream",
     "text": [
      "6 8 10\n",
      "right\n",
      "25 52 60\n",
      "wrong\n",
      "5 12 13\n",
      "right\n",
      "0 0 0\n"
     ]
    }
   ],
   "source": [
    "while(True):\n",
    "    a, b, c = map(int, input().split(\" \"))\n",
    "    \n",
    "    tri = [a, b, c]\n",
    "    tri.sort()\n",
    "    \n",
    "    if((a == 0) and (b == 0) and (c == 0)):\n",
    "        break\n",
    "    \n",
    "    else:\n",
    "        if((tri[0]**2 + tri[1]**2) == tri[2]**2):\n",
    "            print(\"right\")\n",
    "        else:\n",
    "            print(\"wrong\")"
   ]
  },
  {
   "cell_type": "markdown",
   "metadata": {},
   "source": [
    "<H1>9. 19세기 독일 수학자 헤르만 민코프스키는 비유클리드 기하학 중 택시 기하학을 고안했다.\n",
    "\n",
    "택시 기하학에서 두 점 T1(x1,y1), T2(x2,y2) 사이의 거리는 다음과 같이 구할 수 있다.\n",
    "\n",
    "D(T1,T2) = |x1-x2| + |y1-y2|\n",
    "\n",
    "두 점 사이의 거리를 제외한 나머지 정의는 유클리드 기하학에서의 정의와 같다.\n",
    "\n",
    "따라서 택시 기하학에서 원의 정의는 유클리드 기하학에서 원의 정의와 같다.\n",
    "\n",
    "원: 평면 상의 어떤 점에서 거리가 일정한 점들의 집합\n",
    "\n",
    "반지름 R이 주어졌을 때, 유클리드 기하학에서 원의 넓이와, \n",
    "    \n",
    "택시 기하학에서 원의 넓이를 구하는 프로그램을 작성하시오.\n",
    "    \n",
    "첫째 줄에 반지름 R이 주어진다. R은 10,000보다 작거나 같은 자연수이다.\n",
    "</H1>"
   ]
  },
  {
   "cell_type": "code",
   "execution_count": 3,
   "metadata": {},
   "outputs": [
    {
     "name": "stdout",
     "output_type": "stream",
     "text": [
      "1\n",
      "3.141592653589793\n",
      "2\n"
     ]
    }
   ],
   "source": [
    "import math\n",
    "\n",
    "R = int(input())\n",
    "\n",
    "print(math.pi*R*R)\n",
    "print(2*R*R)"
   ]
  }
 ],
 "metadata": {
  "kernelspec": {
   "display_name": "Python 3",
   "language": "python",
   "name": "python3"
  },
  "language_info": {
   "codemirror_mode": {
    "name": "ipython",
    "version": 3
   },
   "file_extension": ".py",
   "mimetype": "text/x-python",
   "name": "python",
   "nbconvert_exporter": "python",
   "pygments_lexer": "ipython3",
   "version": "3.7.4"
  }
 },
 "nbformat": 4,
 "nbformat_minor": 2
}
