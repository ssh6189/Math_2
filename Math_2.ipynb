{
 "cells": [
  {
   "cell_type": "markdown",
   "metadata": {},
   "source": [
    "<H1>1. 주어진 수 N개 중에서 소수가 몇 개인지 찾아서 출력하는 프로그램을 작성하시오.</H1>\n",
    "\n",
    "<H1>첫 줄에 수의 개수 N이 주어진다. N은 100이하이다.</H1> \n",
    "\n",
    "<H1>다음으로 N개의 수가 주어지는데 수는 1,000 이하의 자연수이다.</H1> \n"
   ]
  },
  {
   "cell_type": "code",
   "execution_count": 4,
   "metadata": {},
   "outputs": [
    {
     "name": "stdout",
     "output_type": "stream",
     "text": [
      "4\n",
      "1 3 5 7\n",
      "3\n"
     ]
    }
   ],
   "source": [
    "N = int(input())\n",
    "\n",
    "num_list = []\n",
    "\n",
    "pncount = 0\n",
    "\n",
    "num_list[0:N] = map(int, input().split(\" \"))\n",
    "    \n",
    "for k in range(len(num_list)):\n",
    "    c = 0\n",
    "    j = 1\n",
    "    while(j <= num_list[k]):\n",
    "        if(num_list[k]%j == 0):\n",
    "            c = c + 1\n",
    "\n",
    "        j = j + 1\n",
    "        \n",
    "    if(c==2):\n",
    "        pncount = pncount + 1\n",
    "        \n",
    "print(pncount)"
   ]
  }
 ],
 "metadata": {
  "kernelspec": {
   "display_name": "Python 3",
   "language": "python",
   "name": "python3"
  },
  "language_info": {
   "codemirror_mode": {
    "name": "ipython",
    "version": 3
   },
   "file_extension": ".py",
   "mimetype": "text/x-python",
   "name": "python",
   "nbconvert_exporter": "python",
   "pygments_lexer": "ipython3",
   "version": "3.7.4"
  }
 },
 "nbformat": 4,
 "nbformat_minor": 2
}
