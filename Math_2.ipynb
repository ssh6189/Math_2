{
 "cells": [
  {
   "cell_type": "markdown",
   "metadata": {},
   "source": [
    "<H1>1. 주어진 수 N개 중에서 소수가 몇 개인지 찾아서 출력하는 프로그램을 작성하시오.</H1>\n",
    "\n",
    "<H1>첫 줄에 수의 개수 N이 주어진다. N은 100이하이다.</H1> \n",
    "\n",
    "<H1>다음으로 N개의 수가 주어지는데 수는 1,000 이하의 자연수이다.</H1> \n"
   ]
  },
  {
   "cell_type": "code",
   "execution_count": 4,
   "metadata": {},
   "outputs": [
    {
     "name": "stdout",
     "output_type": "stream",
     "text": [
      "4\n",
      "1 3 5 7\n",
      "3\n"
     ]
    }
   ],
   "source": [
    "N = int(input())\n",
    "\n",
    "num_list = []\n",
    "\n",
    "pncount = 0\n",
    "\n",
    "num_list[0:N] = map(int, input().split(\" \"))\n",
    "    \n",
    "for k in range(len(num_list)):\n",
    "    c = 0\n",
    "    j = 1\n",
    "    while(j <= num_list[k]):\n",
    "        if(num_list[k]%j == 0):\n",
    "            c = c + 1\n",
    "\n",
    "        j = j + 1\n",
    "        \n",
    "    if(c==2):\n",
    "        pncount = pncount + 1\n",
    "        \n",
    "print(pncount)"
   ]
  },
  {
   "cell_type": "markdown",
   "metadata": {},
   "source": [
    "<H1>2.자연수 M과 N이 주어질 때 M이상 N이하의 자연수 중</H1>\n",
    "\n",
    "<H1>소수인 것을 모두 골라 이들 소수의 합과 최솟값을 찾는 프로그램을 작성하시오.</H1>\n",
    "\n",
    "<H1>예를 들어 M=60, N=100인 경우 60이상 100이하의 자연수 중 소수는</H1>\n",
    "\n",
    "<H1>61, 67, 71, 73, 79, 83, 89, 97 총 8개가 있으므로, 이들 소수의 합은 620이고, 최솟값은 61이 된다.</H1>\n",
    "\n",
    "<H1>입력의 첫째 줄에 M이, 둘째 줄에 N이 주어진다.</H1>\n",
    "\n",
    "<H1>M과 N은 10,000이하의 자연수이며, M은 N보다 작거나 같다.</H1>"
   ]
  },
  {
   "cell_type": "code",
   "execution_count": 12,
   "metadata": {},
   "outputs": [
    {
     "name": "stdout",
     "output_type": "stream",
     "text": [
      "60\n",
      "100\n",
      "620\n",
      "61\n"
     ]
    }
   ],
   "source": [
    "M = int(input())\n",
    "N = int(input())\n",
    "\n",
    "num_list = []\n",
    "\n",
    "prime_number = []\n",
    "\n",
    "for i in range(N+1):\n",
    "    \n",
    "    if (i >= M):\n",
    "        num_list.append(i)\n",
    "\n",
    "for k in range(len(num_list)):\n",
    "    c = 0\n",
    "    j = 1\n",
    "    while(j <= num_list[k]):\n",
    "        if(num_list[k]%j == 0):\n",
    "            c = c + 1\n",
    "        \n",
    "        if (c > 2):\n",
    "            break\n",
    "\n",
    "        j = j + 1\n",
    "        \n",
    "    if(c==2):\n",
    "        prime_number.append(num_list[k])\n",
    "        \n",
    "        \n",
    "print(sum(prime_number))\n",
    "print(min(prime_number))"
   ]
  },
  {
   "cell_type": "markdown",
   "metadata": {},
   "source": [
    "<H1>3. M이상 N이하의 소수를 모두 출력하는 프로그램을 작성하시오.</H1>\n",
    "\n",
    "<H1>첫째 줄에 자연수 M과 N이 빈 칸을 사이에 두고 주어진다. (1 ≤ M ≤ N ≤ 1,000,000)</H1>"
   ]
  },
  {
   "cell_type": "code",
   "execution_count": 2,
   "metadata": {},
   "outputs": [
    {
     "name": "stdout",
     "output_type": "stream",
     "text": [
      "3 16\n",
      "[3, 5, 7, 11, 13]\n"
     ]
    }
   ],
   "source": [
    "M, N = map(int, input().split(\" \"))\n",
    "\n",
    "num_list = []\n",
    "\n",
    "prime_number = []\n",
    "\n",
    "for i in range(N+1):\n",
    "    \n",
    "    if (i >= M):\n",
    "        num_list.append(i)\n",
    "\n",
    "for k in range(len(num_list)):\n",
    "    c = 0\n",
    "    j = 1\n",
    "    while(j <= num_list[k]):\n",
    "        if(num_list[k]%j == 0):\n",
    "            c = c + 1\n",
    "        \n",
    "        if (c > 2):\n",
    "            break\n",
    "\n",
    "        j = j + 1\n",
    "        \n",
    "    if(c==2):\n",
    "        prime_number.append(num_list[k])\n",
    "        \n",
    "print(prime_number)"
   ]
  }
 ],
 "metadata": {
  "kernelspec": {
   "display_name": "Python 3",
   "language": "python",
   "name": "python3"
  },
  "language_info": {
   "codemirror_mode": {
    "name": "ipython",
    "version": 3
   },
   "file_extension": ".py",
   "mimetype": "text/x-python",
   "name": "python",
   "nbconvert_exporter": "python",
   "pygments_lexer": "ipython3",
   "version": "3.7.4"
  }
 },
 "nbformat": 4,
 "nbformat_minor": 2
}
